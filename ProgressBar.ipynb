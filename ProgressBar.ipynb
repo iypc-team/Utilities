{
 "cells": [
  {
   "cell_type": "code",
   "execution_count": null,
   "id": "c01a3eed",
   "metadata": {},
   "outputs": [],
   "source": [
    "# %pip install -q -U tqdm"
   ]
  },
  {
   "cell_type": "code",
   "execution_count": null,
   "id": "a9367c1d",
   "metadata": {},
   "outputs": [],
   "source": [
    "import sys\n",
    "def progressbar(it, prefix=\"\", size=60, out=sys.stdout): # Python3.3+\n",
    "    count = len(it)\n",
    "    def show(j):\n",
    "        x = int(size*j/count)\n",
    "        print(\"{}[{}{}] {}/{}\".format(prefix, u\"█\"*x, \".\"*(size-x), j, count), \n",
    "                end='\\r', file=out, flush=True)\n",
    "    show(0)\n",
    "    for i, item in enumerate(it):\n",
    "        yield item\n",
    "        show(i+1)\n",
    "    print(\"\\n\", flush=True, file=out)"
   ]
  },
  {
   "cell_type": "code",
   "execution_count": null,
   "id": "ae1ec46d",
   "metadata": {},
   "outputs": [],
   "source": [
    "import time    \n",
    "for i in progressbar(range(15), \"Computing: \", 60):\n",
    "    time.sleep(0.1) # any code you need"
   ]
  }
 ],
 "metadata": {
  "kernelspec": {
   "display_name": "Python 3 (ipykernel)",
   "language": "python",
   "name": "python3"
  },
  "language_info": {
   "codemirror_mode": {
    "name": "ipython",
    "version": 3
   },
   "file_extension": ".py",
   "mimetype": "text/x-python",
   "name": "python",
   "nbconvert_exporter": "python",
   "pygments_lexer": "ipython3",
   "version": "3.7.12"
  }
 },
 "nbformat": 4,
 "nbformat_minor": 5
}
