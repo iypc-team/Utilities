{
 "cells": [
  {
   "cell_type": "code",
   "execution_count": null,
   "id": "5ddfaf33",
   "metadata": {},
   "outputs": [],
   "source": [
    "u\"█\""
   ]
  },
  {
   "cell_type": "code",
   "execution_count": null,
   "id": "25056b36",
   "metadata": {},
   "outputs": [],
   "source": [
    "from tqdm import tqdm \n",
    "from time import sleep\n",
    "\n",
    "for i in tqdm(range(200)): \n",
    "   sleep(.01)"
   ]
  },
  {
   "cell_type": "code",
   "execution_count": null,
   "id": "f1ba28b4",
   "metadata": {},
   "outputs": [],
   "source": [
    "from tqdm import tqdm\n",
    "\n",
    "for i in tqdm(range(int(5000000)), desc=\"Progress\"):\n",
    "   pass"
   ]
  },
  {
   "cell_type": "code",
   "execution_count": null,
   "id": "f287757f",
   "metadata": {},
   "outputs": [],
   "source": [
    "from tqdm import tqdm\n",
    "from time import sleep\n",
    "\n",
    "for i in tqdm(range(0, 100), ncols=70):\n",
    "    sleep(.1)"
   ]
  },
  {
   "cell_type": "code",
   "execution_count": null,
   "id": "8d8af314",
   "metadata": {},
   "outputs": [],
   "source": [
    "from tqdm import tqdm\n",
    "from time import sleep\n",
    "\n",
    "for i in tqdm(range(0, 100), ncols=70):\n",
    "   sleep(.1)"
   ]
  },
  {
   "cell_type": "code",
   "execution_count": null,
   "id": "e4287a0e",
   "metadata": {},
   "outputs": [],
   "source": [
    "from tqdm import tqdm\n",
    "from time import sleep\n",
    "\n",
    "for i in tqdm(range(0, 100), ncols=70, ascii=\"**\"):\n",
    "   sleep(.1)"
   ]
  },
  {
   "cell_type": "code",
   "execution_count": null,
   "id": "b7707886",
   "metadata": {},
   "outputs": [],
   "source": []
  },
  {
   "cell_type": "code",
   "execution_count": null,
   "id": "ae1ec46d",
   "metadata": {},
   "outputs": [],
   "source": [
    "import sys\n",
    "def progressbar(it, prefix=\"\", size=60, out=sys.stdout): # Python3.3+\n",
    "    ''' '''\n",
    "    count = len(it)\n",
    "    def show(j):\n",
    "        x = int(size*j/count)\n",
    "        print(\"{}[{}{}] {}/{}\".format(prefix, u\"-\"*x, \".\"*(size-x), j, count), \n",
    "                end='\\r', file=out, flush=True)\n",
    "    show(0)\n",
    "    for i, item in enumerate(it):\n",
    "        yield item\n",
    "        show(i+1)\n",
    "    print(\"\\n\", flush=True, file=out)"
   ]
  },
  {
   "cell_type": "code",
   "execution_count": null,
   "id": "e7ffb9d4",
   "metadata": {},
   "outputs": [],
   "source": [
    "help(progressbar)"
   ]
  },
  {
   "cell_type": "code",
   "execution_count": null,
   "id": "da24d662",
   "metadata": {},
   "outputs": [],
   "source": [
    "import time    \n",
    "for i in progressbar(range(1), \"Computing: \", 50):\n",
    "    time.sleep(5.0) # any code you need"
   ]
  },
  {
   "cell_type": "code",
   "execution_count": null,
   "id": "43df5692",
   "metadata": {},
   "outputs": [],
   "source": []
  },
  {
   "cell_type": "code",
   "execution_count": null,
   "id": "f43a1f3a",
   "metadata": {},
   "outputs": [],
   "source": []
  },
  {
   "cell_type": "code",
   "execution_count": null,
   "id": "bf2dc477",
   "metadata": {},
   "outputs": [],
   "source": []
  },
  {
   "cell_type": "code",
   "execution_count": null,
   "id": "7f7ca267",
   "metadata": {},
   "outputs": [],
   "source": []
  }
 ],
 "metadata": {
  "kernelspec": {
   "display_name": "Python 3 (ipykernel)",
   "language": "python",
   "name": "python3"
  },
  "language_info": {
   "codemirror_mode": {
    "name": "ipython",
    "version": 3
   },
   "file_extension": ".py",
   "mimetype": "text/x-python",
   "name": "python",
   "nbconvert_exporter": "python",
   "pygments_lexer": "ipython3",
   "version": "3.7.12"
  }
 },
 "nbformat": 4,
 "nbformat_minor": 5
}
