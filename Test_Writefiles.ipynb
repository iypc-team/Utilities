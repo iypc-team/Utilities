{
 "cells": [
  {
   "cell_type": "code",
   "execution_count": null,
   "id": "a6b5732c",
   "metadata": {},
   "outputs": [],
   "source": [
    "from CV2Utils_2 import *\n",
    "cvu\n",
    "cvu.__all__"
   ]
  },
  {
   "cell_type": "code",
   "execution_count": null,
   "id": "f92ab66f",
   "metadata": {},
   "outputs": [],
   "source": [
    "help(cvu.resizeImage)"
   ]
  },
  {
   "cell_type": "code",
   "execution_count": null,
   "id": "d974f6f7",
   "metadata": {},
   "outputs": [],
   "source": [
    "backPath = join(cvu.contentPath, 'enemy.png')\n",
    "image = cv2.imread(backPath)\n",
    "backgroundImage = cvu.getCV2Image(backPath)\n",
    "print(type(backgroundImage))\n",
    "resizedImage = numpy.copy(image)\n",
    "resizedImage = cvu.resizeImage(resizedImage, newSize=(448, 448))\n",
    "cvu.plotShowTwoImages(image, resizedImage, title2=resizedImage.shape)\n"
   ]
  },
  {
   "cell_type": "code",
   "execution_count": null,
   "id": "9afe00d3",
   "metadata": {},
   "outputs": [],
   "source": [
    "imagePath = join(cvu.contentPath, 'enemy.png')\n",
    "image = cvu.getCV2Image(imagePath)\n",
    "zeroPixel=image[0,0]\n",
    "print('zeroPixel:', zeroPixel)\n",
    "backPath = join(cvu.contentPath, 'enemy.png')\n",
    "if not exists(backPath):\n",
    "    backPath = cvu.createImageWithColor(pxColor=zeroPixel, silent=False)\n",
    "image = cvu.getCV2Image(backPath)\n",
    "w,h,_ = image.shape\n",
    "backImage=numpy.copy(image)\n",
    "backImage=cv2.resize(backImage, dsize=[448, 448, 3])\n",
    "\n",
    "cvu.plotShowTwoImages(image, image, title2=backImage.shape)"
   ]
  },
  {
   "cell_type": "code",
   "execution_count": null,
   "id": "4f0455b6",
   "metadata": {},
   "outputs": [],
   "source": [
    "from __future__ import absolute_import\n",
    "from AllInstalls_4 import *\n",
    "from TarfileFunctions import *\n",
    "from JsonNumpyUtils import *"
   ]
  },
  {
   "cell_type": "code",
   "execution_count": null,
   "id": "88872998",
   "metadata": {},
   "outputs": [],
   "source": [
    "directoryGlob=glob.glob('**')\n",
    "directoryList=[]\n",
    "for fil in sorted(directoryGlob):\n",
    "    if isdir(fil)and not fil.__contains__('_'):\n",
    "        # print(f'{C.BIPurple}{fil}{C.ColorOff}')\n",
    "        fileName = fil + '.tar.g'\n",
    "        # print(f'{C.BIGreen}{fileName}{C.ColorOff}')\n",
    "        tff.tarfileFromDirectory(output_filename=fileName,\n",
    "                                 source_dir=abspath(fil))\n",
    "# clear_output()\n",
    "# tff.listTarfiles()"
   ]
  },
  {
   "cell_type": "code",
   "execution_count": null,
   "id": "537dcfab",
   "metadata": {},
   "outputs": [],
   "source": [
    "tff.inspectTarfile('/home/jovyan/images.tar.gz')"
   ]
  },
  {
   "cell_type": "code",
   "execution_count": null,
   "id": "66f377e1",
   "metadata": {},
   "outputs": [],
   "source": [
    "def collectDotPyFiles(silent=True):\n",
    "    dirPath=join(ai4.contentPath, 'pythonFiles')\n",
    "    if not exists(dirPath):\n",
    "        os.mkdir(dirPath)\n",
    "    os.chdir(ai4.contentPath)\n",
    "    pyfileList=glob.glob('*.py')\n",
    "    for fil in sorted(pyfileList):\n",
    "        fullPath=abspath(fil)\n",
    "        copyPath=join(dirPath, fil)\n",
    "        if not exists(copyPath):\n",
    "            shutil.copy2(src=fullPath,\n",
    "                        dst=copyPath)\n",
    "            if not silent:\n",
    "                print(fullPath)\n",
    "                print(f'copy to: {C.BIGreen}{copyPath}{C.ColorOff}')\n",
    "        elif exists(copyPath)and not silent:\n",
    "            # print(fullPath)\n",
    "            print(f'exists: {C.BIRed}{copyPath}{C.ColorOff}')\n",
    "                \n",
    "collectDotPyFiles(silent=False)\n",
    "print()\n",
    "directoryPath=join(jnu.contentPath, 'pythonFiles')\n",
    "tff.tarfileFromDirectory(output_filename='DotPyFiles.tar.gz',\n",
    "                        source_dir=directoryPath)\n",
    "tff.listTarfiles()"
   ]
  },
  {
   "cell_type": "code",
   "execution_count": null,
   "id": "62e72c74",
   "metadata": {},
   "outputs": [],
   "source": [
    "dictionaryList=[]"
   ]
  },
  {
   "cell_type": "code",
   "execution_count": null,
   "id": "68e25add",
   "metadata": {},
   "outputs": [],
   "source": [
    "methodList=ai4.__all__\n",
    "ai4MethodsDict=dict.fromkeys(methodList) \n",
    "for key in ai4MethodsDict:\n",
    "    value = str('ai4.' + key + '()')\n",
    "    # print(value)\n",
    "    ai4MethodsDict[key] = value\n",
    "# ai4MethodsDict\n",
    "jnu.createJsonFile('ai4MethodsDict', ai4MethodsDict)\n",
    "path=join('ai4MethodsDict')\n",
    "if exists(path):\n",
    "    print(path)\n",
    "jnu.listJsonFiles(silent=False)\n",
    "jnu.inspectJsonFile(path)"
   ]
  },
  {
   "cell_type": "code",
   "execution_count": null,
   "id": "d41acb1a",
   "metadata": {},
   "outputs": [],
   "source": [
    "methodList=jnu.__all__\n",
    "methodList.remove('object_hook')\n",
    "jnuMethodsDict=dict.fromkeys(methodList)\n",
    "for key in jnuMethodsDict:\n",
    "    value = str('jnu.' + key + '()')\n",
    "    # print(value)\n",
    "    jnuMethodsDict[key] = value\n",
    "jnuMethodsDict"
   ]
  },
  {
   "cell_type": "code",
   "execution_count": null,
   "id": "8e1c7a9d",
   "metadata": {},
   "outputs": [],
   "source": [
    "tff.__all__"
   ]
  },
  {
   "cell_type": "code",
   "execution_count": null,
   "id": "978eebf3",
   "metadata": {},
   "outputs": [],
   "source": [
    "methodList=tff.__all__\n",
    "ttfMethodsDict=dict.fromkeys(methodList) \n",
    "for key in ttfMethodsDict:\n",
    "    value = str('ttf.' + key + '()')\n",
    "    # print(value)\n",
    "    ttfMethodsDict[key] = value\n",
    "ttfMethodsDict"
   ]
  },
  {
   "cell_type": "code",
   "execution_count": null,
   "id": "8ed2423b",
   "metadata": {},
   "outputs": [],
   "source": [
    "methodList=cvu.__all__\n",
    "cvuMethodsDict=dict.fromkeys(methodList) \n",
    "for key in cvuMethodsDict:\n",
    "    value = str('cvu.' + key + '()')\n",
    "    # print(value)\n",
    "    cvuMethodsDict[key] = value\n",
    "cvuMethodsDict"
   ]
  }
 ],
 "metadata": {
  "kernelspec": {
   "display_name": "Python 3 (ipykernel)",
   "language": "python",
   "name": "python3"
  },
  "language_info": {
   "codemirror_mode": {
    "name": "ipython",
    "version": 3
   },
   "file_extension": ".py",
   "mimetype": "text/x-python",
   "name": "python",
   "nbconvert_exporter": "python",
   "pygments_lexer": "ipython3",
   "version": "3.7.12"
  }
 },
 "nbformat": 4,
 "nbformat_minor": 5
}
