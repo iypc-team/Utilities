{
 "cells": [
  {
   "cell_type": "code",
   "execution_count": null,
   "id": "075e7438",
   "metadata": {},
   "outputs": [],
   "source": [
    "from AllInstalls_4 import *\n",
    "print()\n",
    "from JsonNumpyUtils import *\n",
    "print()\n",
    "from CV2Utils_2 import *\n",
    "from time import perf_counter"
   ]
  },
  {
   "cell_type": "code",
   "execution_count": null,
   "id": "68e25add",
   "metadata": {},
   "outputs": [],
   "source": [
    "methodList=ai4.__all__\n",
    "ai4MethodsDict=dict.fromkeys(methodList) \n",
    "for key in ai4MethodsDict:\n",
    "    value = str('ai4.' + key + '()')\n",
    "    # print(value)\n",
    "    ai4MethodsDict[key] = value\n",
    "ai4MethodsDict"
   ]
  },
  {
   "cell_type": "code",
   "execution_count": null,
   "id": "d41acb1a",
   "metadata": {},
   "outputs": [],
   "source": [
    "methodList=jnu.__all__\n",
    "methodList.remove('object_hook')\n",
    "jnuMethodsDict=dict.fromkeys(methodList)\n",
    "for key in jnuMethodsDict:\n",
    "    value = str('jnu.' + key + '()')\n",
    "    # print(value)\n",
    "    jnuMethodsDict[key] = value\n",
    "jnuMethodsDict"
   ]
  },
  {
   "cell_type": "code",
   "execution_count": null,
   "id": "8ed2423b",
   "metadata": {},
   "outputs": [],
   "source": [
    "methodList=cvu.__all__\n",
    "cvuMethodsDict=dict.fromkeys(methodList) \n",
    "for key in cvuMethodsDict:\n",
    "    value = str('cvu.' + key + '()')\n",
    "    # print(value)\n",
    "    cvuMethodsDict[key] = value\n",
    "cvuMethodsDict"
   ]
  }
 ],
 "metadata": {
  "kernelspec": {
   "display_name": "Python 3 (ipykernel)",
   "language": "python",
   "name": "python3"
  },
  "language_info": {
   "codemirror_mode": {
    "name": "ipython",
    "version": 3
   },
   "file_extension": ".py",
   "mimetype": "text/x-python",
   "name": "python",
   "nbconvert_exporter": "python",
   "pygments_lexer": "ipython3",
   "version": "3.7.12"
  }
 },
 "nbformat": 4,
 "nbformat_minor": 5
}
