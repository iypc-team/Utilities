{
 "cells": [
  {
   "cell_type": "code",
   "execution_count": null,
   "id": "075e7438",
   "metadata": {},
   "outputs": [],
   "source": [
    "from AllInstalls_4 import *\n",
    "print()\n",
    "from JsonNumpyUtils import *\n",
    "print()\n",
    "from CV2Utils_2 import *\n",
    "from time import perf_counter"
   ]
  },
  {
   "cell_type": "code",
   "execution_count": null,
   "id": "66f377e1",
   "metadata": {},
   "outputs": [],
   "source": [
    "def collectDotPyFiles(silent=True):\n",
    "    dirPath=join(ai4.contentPath, 'pythonFiles')\n",
    "    if not exists(dirPath):\n",
    "        os.mkdir(dirPath)\n",
    "    os.chdir(ai4.contentPath)\n",
    "    pyfileList=glob.glob('*.py')\n",
    "    for fil in sorted(pyfileList):\n",
    "        fullPath=abspath(fil)\n",
    "        copyPath=join(dirPath, fil)\n",
    "        if not exists(copyPath):\n",
    "            shutil.copy2(src=fullPath,\n",
    "                        dst=copyPath)\n",
    "            if not silent:\n",
    "                print(fullPath)\n",
    "                print(f'copy to: {C.BIGreen}{copyPath}{C.ColorOff}')\n",
    "        elif exists(copyPath)and not silent:\n",
    "            # print(fullPath)\n",
    "            print(f'exists: {C.BIRed}{copyPath}{C.ColorOff}')\n",
    "                \n",
    "collectDotPyFiles(silent=False)\n"
   ]
  },
  {
   "cell_type": "code",
   "execution_count": null,
   "id": "68e25add",
   "metadata": {},
   "outputs": [],
   "source": [
    "methodList=ai4.__all__\n",
    "ai4MethodsDict=dict.fromkeys(methodList) \n",
    "for key in ai4MethodsDict:\n",
    "    value = str('ai4.' + key + '()')\n",
    "    # print(value)\n",
    "    ai4MethodsDict[key] = value\n",
    "ai4MethodsDict"
   ]
  },
  {
   "cell_type": "code",
   "execution_count": null,
   "id": "d41acb1a",
   "metadata": {},
   "outputs": [],
   "source": [
    "methodList=jnu.__all__\n",
    "methodList.remove('object_hook')\n",
    "jnuMethodsDict=dict.fromkeys(methodList)\n",
    "for key in jnuMethodsDict:\n",
    "    value = str('jnu.' + key + '()')\n",
    "    # print(value)\n",
    "    jnuMethodsDict[key] = value\n",
    "jnuMethodsDict"
   ]
  },
  {
   "cell_type": "code",
   "execution_count": null,
   "id": "8ed2423b",
   "metadata": {},
   "outputs": [],
   "source": [
    "methodList=cvu.__all__\n",
    "cvuMethodsDict=dict.fromkeys(methodList) \n",
    "for key in cvuMethodsDict:\n",
    "    value = str('cvu.' + key + '()')\n",
    "    # print(value)\n",
    "    cvuMethodsDict[key] = value\n",
    "cvuMethodsDict"
   ]
  }
 ],
 "metadata": {
  "kernelspec": {
   "display_name": "Python 3 (ipykernel)",
   "language": "python",
   "name": "python3"
  },
  "language_info": {
   "codemirror_mode": {
    "name": "ipython",
    "version": 3
   },
   "file_extension": ".py",
   "mimetype": "text/x-python",
   "name": "python",
   "nbconvert_exporter": "python",
   "pygments_lexer": "ipython3",
   "version": "3.7.12"
  }
 },
 "nbformat": 4,
 "nbformat_minor": 5
}
