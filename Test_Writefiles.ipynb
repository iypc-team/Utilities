{
 "cells": [
  {
   "cell_type": "code",
   "execution_count": null,
   "id": "075e7438",
   "metadata": {},
   "outputs": [],
   "source": [
    "from AllInstalls_4 import *\n",
    "print()\n",
    "from JsonNumpyUtils import *\n",
    "print()\n",
    "from CV2Utils_2 import *\n",
    "from time import perf_counter"
   ]
  },
  {
   "cell_type": "code",
   "execution_count": null,
   "id": "c6fdc11f",
   "metadata": {},
   "outputs": [],
   "source": [
    "ai4MethodsDict = dict()\n",
    "ai4MethodsDict={'method':str, 'call':str}\n",
    "ai4Functions = ai4.__all__\n",
    "print(len(ai4Functions), 'callable methods')\n",
    "for item in ai4Functions:\n",
    "    # print(item)\n",
    "    caller = ('ai4.' + str(item) + '()')\n",
    "    # print(caller)\n",
    "    ai4MethodsDict['method'] = item\n",
    "    ai4MethodsDict['call'] = caller\n",
    "\n",
    "ai4MethodsDict.keys()"
   ]
  },
  {
   "cell_type": "code",
   "execution_count": null,
   "id": "6337b73b",
   "metadata": {},
   "outputs": [],
   "source": [
    "jnuMethodsDict=()\n",
    "jnuMethodsDict={'method':str, 'call':str}\n",
    "\n",
    "jnuFunctions=[]\n",
    "jnuFunctions = jnu.__all__\n",
    "print(len(jnuFunctions), 'callable methods')\n",
    "for item in jnuFunctions:\n",
    "    # print(item)\n",
    "    caller = ('jnu.' + str(item) + '()')\n",
    "    # print(caller)\n",
    "    jnuMethodsDict['method'] = str(item)\n",
    "    jnuMethodsDict['call'] = caller\n",
    "    "
   ]
  },
  {
   "cell_type": "code",
   "execution_count": null,
   "id": "9f784383",
   "metadata": {},
   "outputs": [],
   "source": [
    "cvuMethodsDict=()\n",
    "cvuMethodsDict={'method':str, 'call':str}\n",
    "\n",
    "cvuFunctions=[]\n",
    "cvuFunctions = cvu.__all__\n",
    "print(len(cvuFunctions), 'callable methods')\n",
    "for item in cvuFunctions:\n",
    "    # print(item)\n",
    "    caller = ('cvu.' + str(item) + '()')\n",
    "    # print(caller)\n",
    "    cvuMethodsDict['method'] = str(item)\n",
    "    cvuMethodsDict['call'] = caller\n",
    "    "
   ]
  }
 ],
 "metadata": {
  "kernelspec": {
   "display_name": "Python 3 (ipykernel)",
   "language": "python",
   "name": "python3"
  },
  "language_info": {
   "codemirror_mode": {
    "name": "ipython",
    "version": 3
   },
   "file_extension": ".py",
   "mimetype": "text/x-python",
   "name": "python",
   "nbconvert_exporter": "python",
   "pygments_lexer": "ipython3",
   "version": "3.7.12"
  }
 },
 "nbformat": 4,
 "nbformat_minor": 5
}
