{
 "cells": [
  {
   "cell_type": "code",
   "execution_count": null,
   "id": "b019b3e9",
   "metadata": {},
   "outputs": [],
   "source": [
    "from AllInstalls_4 import *\n",
    "print()\n",
    "from JsonNumpyUtils import *\n",
    "print()\n",
    "from CV2Utils_2 import *\n",
    "# from time import perf_counter\n",
    "import tensorflow as tf\n",
    "print(f'tensorflow: {C.BIBlue}{tf.__version__}{C.ColorOff}')"
   ]
  },
  {
   "cell_type": "code",
   "execution_count": null,
   "id": "29df0646",
   "metadata": {},
   "outputs": [],
   "source": [
    "import cv2\n",
    "from CV2_Utils_2 import *\n",
    "pth=join(cvu.contentPath, 'image.jpeg')\n",
    "print(pth)\n",
    "img=cvu.getCV2Image(pth)\n",
    "img=cvu.resizeImage(img)\n",
    "img=cvu.edgeDetection(img)\n",
    "cvu.plotShowSingleImage(img)\n",
    "jsonImg=jnu.encodeNumpy(obj=img)\n",
    "jnu.createJsonFile(name='jsonImg',\n",
    "                  input_data=jsonImg)\n",
    "jnu.listJsonFiles(silent=False)\n",
    "# jnu.pp.pprint(jsonImg)"
   ]
  }
 ],
 "metadata": {
  "kernelspec": {
   "display_name": "Python 3 (ipykernel)",
   "language": "python",
   "name": "python3"
  },
  "language_info": {
   "codemirror_mode": {
    "name": "ipython",
    "version": 3
   },
   "file_extension": ".py",
   "mimetype": "text/x-python",
   "name": "python",
   "nbconvert_exporter": "python",
   "pygments_lexer": "ipython3",
   "version": "3.7.12"
  }
 },
 "nbformat": 4,
 "nbformat_minor": 5
}
