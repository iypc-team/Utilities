{
 "cells": [
  {
   "cell_type": "code",
   "execution_count": null,
   "id": "f9cebbbf",
   "metadata": {},
   "outputs": [],
   "source": [
    "def clearCache(removeCache=False):\n",
    "    '''default removeCache=False'''\n",
    "    print(f'removeCache: {removeCache}')\n",
    "    import glob, os, shutil\n",
    "    from os.path import abspath\n",
    "\n",
    "    contentPath=os.getcwd()\n",
    "    # print(contentPath)\n",
    "    globList = glob.glob('**', recursive=True)\n",
    "\n",
    "    for fil in globList:\n",
    "        # print(fil)\n",
    "        if fil.endswith('__'):\n",
    "            full_Path = abspath(fil)\n",
    "            print(full_Path)\n",
    "            os.chdir(full_Path)\n",
    "            if removeCache:\n",
    "                print(f'removed: {full_Path}')\n",
    "                shushutiltil.rmtree(full_Path)\n",
    "    print(len(globList), 'cache files in contentPath')"
   ]
  },
  {
   "cell_type": "code",
   "execution_count": null,
   "id": "eba69506",
   "metadata": {},
   "outputs": [],
   "source": [
    "from CV2Utils_2 import *\n",
    "clearCache()"
   ]
  }
 ],
 "metadata": {
  "kernelspec": {
   "display_name": "Python 3 (ipykernel)",
   "language": "python",
   "name": "python3"
  },
  "language_info": {
   "codemirror_mode": {
    "name": "ipython",
    "version": 3
   },
   "file_extension": ".py",
   "mimetype": "text/x-python",
   "name": "python",
   "nbconvert_exporter": "python",
   "pygments_lexer": "ipython3",
   "version": "3.7.12"
  }
 },
 "nbformat": 4,
 "nbformat_minor": 5
}
