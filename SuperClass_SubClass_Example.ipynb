{
 "cells": [
  {
   "cell_type": "code",
   "execution_count": null,
   "id": "c2efa83a",
   "metadata": {},
   "outputs": [],
   "source": [
    "class SuperClass:\n",
    "    ''' '''\n",
    "    def __init_subclass__(cls, default_name, **kwargs):\n",
    "        cls.default_name = default_name\n",
    "        \n",
    "class SubClass1(SuperClass, default_name =\"SubClass1\"):\n",
    "    ''' '''\n",
    "    default_name = \"InheritedClass1\"\n",
    "\n",
    "class SubClass2(SuperClass, default_name =\"SubClass2\"):\n",
    "    ''' '''\n",
    "    default_name = \"InheritedClass2\"\n",
    "  "
   ]
  },
  {
   "cell_type": "code",
   "execution_count": null,
   "id": "2c21d3e0",
   "metadata": {},
   "outputs": [],
   "source": [
    "sc = SuperClass()\n",
    "help(sc)"
   ]
  },
  {
   "cell_type": "code",
   "execution_count": null,
   "id": "bfa17844",
   "metadata": {},
   "outputs": [],
   "source": [
    "sc1 = SubClass1()\n",
    "sc2 = SubClass2()\n",
    "print(sc1.default_name)\n",
    "print(sc2.default_name)"
   ]
  }
 ],
 "metadata": {
  "kernelspec": {
   "display_name": "Python 3 (ipykernel)",
   "language": "python",
   "name": "python3"
  },
  "language_info": {
   "codemirror_mode": {
    "name": "ipython",
    "version": 3
   },
   "file_extension": ".py",
   "mimetype": "text/x-python",
   "name": "python",
   "nbconvert_exporter": "python",
   "pygments_lexer": "ipython3",
   "version": "3.7.12"
  }
 },
 "nbformat": 4,
 "nbformat_minor": 5
}
