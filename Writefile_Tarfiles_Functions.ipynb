{
 "cells": [
  {
   "cell_type": "code",
   "execution_count": null,
   "id": "varied-moscow",
   "metadata": {
    "id": "varied-moscow"
   },
   "outputs": [],
   "source": [
    "from IPython.display import clear_output\n",
    "import time\n",
    "def sleepyTime():\n",
    "    count=0\n",
    "    try:\n",
    "        while count <= 120:\n",
    "            print(f'sleeping for {count} minutes')\n",
    "            time.sleep(60)\n",
    "            count+=1\n",
    "            if count % 5 == 0:\n",
    "                clear_output()\n",
    "    except KeyboardInterrupt:\n",
    "        clear_output()\n",
    "# sleepyTime()"
   ]
  },
  {
   "cell_type": "code",
   "execution_count": null,
   "id": "2IPirPEO9-if",
   "metadata": {
    "id": "2IPirPEO9-if"
   },
   "outputs": [],
   "source": [
    "from __future__ import absolute_import\n",
    "import glob, os, shutil, tarfile\n",
    "from os.path import *\n",
    "contentPth = os.getcwd()\n",
    "if exists('/content/sample_data'):\n",
    "    shutil.rmtree('/content/sample_data')\n",
    "try: \n",
    "    from google.colab import drive, files\n",
    "    if os.path.exists('/content/sample_data'):\n",
    "        shutil.rmtree('/content/sample_data')\n",
    "    drive.flush_and_unmount()\n",
    "    drive.mount('/content/gdrive', force_remount=True)\n",
    "    myDrivePth = os.path.join(contentPth, 'gdrive/My Drive')\n",
    "    if exists(myDrivePth):\n",
    "        print(myDrivePth)\n",
    "        os.chdir(myDrivePth)\n",
    "        from BashColors import C\n",
    "        print(f'{C.Green}ok')\n",
    "except Exception as err:\n",
    "    print(err)\n",
    "    os.chdir(contentPth)\n",
    "    from BashColors import C\n",
    "    print(f'{C.Green}ok')"
   ]
  },
  {
   "cell_type": "code",
   "execution_count": null,
   "id": "cb4e9613",
   "metadata": {
    "id": "complimentary-editing"
   },
   "outputs": [],
   "source": [
    "# %%writefile TarfileFunctions.py\n",
    "from __future__ import absolute_import\n",
    "from IPython.display import clear_output\n",
    "from BashColors import C\n",
    "import glob, os, shutil, tarfile\n",
    "from os.path import abspath\n",
    "\n",
    "class TarfileFunctions(object):\n",
    "    # from IPython.display import clear_output\n",
    "    # from BashColors import C\n",
    "    # import glob, os, shutil, tarfile\n",
    "    # from os.path import abspath\n",
    "    \n",
    "    def __init__(self):\n",
    "        print(f\"{C.BIGreen}AllInstalls4{C.ColorOff}\")\n",
    "        self.__all__ = self.getMethodList()\n",
    "        self.contentPath = os.getcwd()\n",
    "        \n",
    "        self.tff = TarfileFunctions\n",
    "        self.tarfileList=[]\n",
    "        self.tarfilePathList=[]\n",
    "        super(object, self).__init__()\n",
    "\n",
    "    def __iter__(self):\n",
    "        return self\n",
    "    def __len__(self):\n",
    "        return len(self.name)\n",
    "    def __str__(self):\n",
    "        return \"%s(%r)\" % (self.__class__, self.__dict__)\n",
    "    \n",
    "    def getMethodList(self, silent=True):\n",
    "        '''List all methods in AllInstalls4\\n Print silent = True'''\n",
    "        method_list=[]\n",
    "        for attribute in dir(self):\n",
    "            # Get the attribute value\n",
    "            attribute_value = getattr(self, attribute)\n",
    "            # Check that it is callable\n",
    "            if callable(attribute_value):\n",
    "                # Filter all dunder (__ prefix) methods\n",
    "                if attribute.startswith('__') == False:\n",
    "                    method_list.append(attribute)\n",
    "        if not silent:\n",
    "            print(f'{len(method_list)} callable methods in AllInstalls4')\n",
    "            for method in method_list:\n",
    "                print(method)\n",
    "        return method_list\n",
    "    \n",
    "    def listTarfiles(self):\n",
    "        print(f'Available tar files:')\n",
    "        tarfile_list = glob.glob('**', recursive=True)\n",
    "        for fil in sorted(tarfile_list):\n",
    "            if fil.endswith('.gz'):\n",
    "                fil=os.path.basename(fil)\n",
    "                fullPth = os.path.abspath(fil)\n",
    "                print(f'{C.IPurple}{fil}{C.ColorOff}')\n",
    "                print(f'{C.Green}{fullPth}{C.ColorOff}\\n')\n",
    "                self.tarfileList.append(fil)\n",
    "                self.tarfilePathList.append(fullPth)\n",
    "            \n",
    "    def tarfileFromDirectory(self,\n",
    "                                   output_filename, source_dir):\n",
    "        print(source_dir)\n",
    "        print(os.path.basename(source_dir))\n",
    "        with tarfile.open(output_filename, \"w:gz\") as tar:\n",
    "            # pass\n",
    "            tar.add(source_dir, arcname=os.path.basename(source_dir))\n",
    "\n",
    "    def extractTarfile(self, fileName):\n",
    "        fil=os.path.basename(fileName)\n",
    "        print(f'extracting: {fil}')\n",
    "        tar = tarfile.open(fil, 'r:gz')\n",
    "        tar.extractall()\n",
    "        tar.close()\n",
    "\n",
    "    def inspectTarfile(self, named):\n",
    "        named=str(named)\n",
    "        named=os.path.basename(named)\n",
    "        print(named)\n",
    "        tar = tarfile.open(named, \"r:gz\")\n",
    "        for tarinfo in tar:\n",
    "            print(f'{C.IPurple}{tarinfo.name}{C.ColorOff}')\n",
    "            print('type:', tarinfo.type)\n",
    "            print('chksum:', tarinfo.chksum)\n",
    "            print('size:', tarinfo.size)\n",
    "            print()\n",
    "        tar.close()\n",
    "        \n",
    "    def extractAllTarfiles(self, fileList:list):\n",
    "        '''not implemented'''\n",
    "        print(fileList)\n",
    "        # fp = tarfile.open(fileName, 'r:gz')''\n",
    "        # fp.extractall()\n",
    "        # fp.close()\n",
    "tff = TarfileFunctions()\n",
    "tff.__all__"
   ]
  },
  {
   "cell_type": "code",
   "execution_count": null,
   "id": "8e98b65d",
   "metadata": {
    "id": "complimentary-editing"
   },
   "outputs": [],
   "source": [
    "tff.listTarfiles()"
   ]
  },
  {
   "cell_type": "code",
   "execution_count": null,
   "id": "english-drunk",
   "metadata": {},
   "outputs": [],
   "source": [
    "tff.extractAllTarfiles(tff.tarfileList)"
   ]
  },
  {
   "cell_type": "code",
   "execution_count": null,
   "id": "greatest-newport",
   "metadata": {
    "id": "greatest-newport"
   },
   "outputs": [],
   "source": [
    "tff=TarfileFunctions()\n",
    "tarfile=os.path.abspath('Juno_Original_Defcon_Images.tar.gz')\n",
    "tff.inspect_tarfile(\n",
    "                    fileName='Juno_Original_Defcon_Images.tar.gz')"
   ]
  },
  {
   "cell_type": "code",
   "execution_count": null,
   "id": "popular-community",
   "metadata": {
    "id": "popular-community"
   },
   "outputs": [],
   "source": [
    "\n",
    "fp = tarfile.open('Original_Defcon_Images.tar.gz', 'r:gz')\n",
    "fp.extractall()\n",
    "fp.close()\n",
    "print('ok')"
   ]
  },
  {
   "cell_type": "code",
   "execution_count": null,
   "id": "verbal-vector",
   "metadata": {
    "id": "verbal-vector"
   },
   "outputs": [],
   "source": [
    "sourcePth='/home/jovyan/content/gdrive/My Drive/TensorflowImages'\n",
    "destinationPth=join(contentPth, 'TensorflowImages')\n",
    "if not exists(destinationPth):\n",
    "    shutil.copytree(src=sourcePth, dst=destinationPth)\n",
    "else: print(f'{destinationPth} path exists')\n",
    "    \n",
    "delPth=join(contentPth, 'content')\n",
    "if exists(delPth):\n",
    "    shutil.rmtree(delPth)\n",
    "print('ok')"
   ]
  },
  {
   "cell_type": "code",
   "execution_count": null,
   "id": "coated-matter",
   "metadata": {
    "id": "coated-matter"
   },
   "outputs": [],
   "source": [
    "if exists(destinationPth):\n",
    "    create_tarfile_directory(\n",
    "        output_filename='Juno_Original_Defcon_Images.tar.gz',\n",
    "        source_dir=destinationPth)\n",
    "print('ok')"
   ]
  },
  {
   "cell_type": "code",
   "execution_count": null,
   "id": "unnecessary-documentary",
   "metadata": {
    "id": "unnecessary-documentary"
   },
   "outputs": [],
   "source": []
  },
  {
   "cell_type": "code",
   "execution_count": null,
   "id": "6Qw_heXDykbl",
   "metadata": {
    "id": "6Qw_heXDykbl"
   },
   "outputs": [],
   "source": [
    "if exists(destinationPth):\n",
    "    os.chdir(destinationPth)\n",
    "    defconImageList = glob.glob('**', recursive=True)\n",
    "    for item in sorted(defconImageList):\n",
    "        fullPth = abspath(item)\n",
    "        print(fullPth)\n",
    "        if fullPth.endswith('.gz'):\n",
    "            pass\n",
    "            #shutil.copy2(src=fullPth, dst=contentPth)\n",
    "\n",
    "os.chdir(contentPth)"
   ]
  },
  {
   "cell_type": "code",
   "execution_count": null,
   "id": "adverse-chase",
   "metadata": {
    "id": "adverse-chase"
   },
   "outputs": [],
   "source": [
    "os.chdir(destinationPth)\n",
    "print(f'cwd: {C.BBlue}{os.getcwd()}{C.ColorOff}\\n')\n",
    "\n",
    "bashPath=join(contentPth, 'BashColors.py')\n",
    "# create a tar consisting of all files in current directory\n",
    "fp=tarfile.open('Juno_Original_Defcon_Images.tar.gz','w:gz')\n",
    "if exists(bashPath):\n",
    "    fp.add(bashPath)\n",
    "for fil in sorted(glob.glob('**', recursive=True)):\n",
    "    fullPth=abspath(fil)\n",
    "    if fullPth.endswith('.gz'):\n",
    "        print(f'pass: {C.BRed}{fullPth}{C.ColorOff}')\n",
    "    else:\n",
    "        print(fullPth)\n",
    "        fp.add(fullPth)\n",
    "fp.close()"
   ]
  },
  {
   "cell_type": "code",
   "execution_count": null,
   "id": "proof-millennium",
   "metadata": {
    "id": "proof-millennium"
   },
   "outputs": [],
   "source": [
    "fileCount=0\n",
    "for fil in tarfile.open('Juno_Original_Defcon_Images.tar.gz', 'r:gz'):\n",
    "    fileCount+=1\n",
    "    print(fil.name)\n",
    "    # bytes_=fil.mode.to_bytes(length=fil.size, byteorder=sys.byteorder)\n",
    "    print('type:', fil.type)\n",
    "    print('chksum:', fil.chksum)\n",
    "    print('size:', fil.size)\n",
    "    \n",
    "    print()"
   ]
  },
  {
   "cell_type": "code",
   "execution_count": null,
   "id": "maritime-coral",
   "metadata": {
    "id": "maritime-coral"
   },
   "outputs": [],
   "source": [
    "print(fileCount)"
   ]
  },
  {
   "cell_type": "code",
   "execution_count": null,
   "id": "impressed-appendix",
   "metadata": {
    "id": "impressed-appendix"
   },
   "outputs": [],
   "source": [
    "\n",
    "gzFile=glob.glob('*.gz', recursive=True)\n",
    "for fil in gzFile:\n",
    "    fullPth=abspath(fil)\n",
    "    print(f'{C.Green}{fullPth}{C.ColorOff}')\n",
    "    if exists(fullPth):\n",
    "        try:\n",
    "            shutil.copy2(fullPth, contentPth)\n",
    "        except Exception as err:\n",
    "            print(err)"
   ]
  },
  {
   "cell_type": "code",
   "execution_count": null,
   "id": "treated-consideration",
   "metadata": {
    "id": "treated-consideration"
   },
   "outputs": [],
   "source": [
    "list_tarfiles()\n",
    "shutil.copy2(\n",
    "'/home/jovyan/TensorflowImages/Juno_Original_Defcon_Images.tar.gz' ,\n",
    "'/home/jovyan/Juno_Original_Defcon_Images.tar.gz')"
   ]
  }
 ],
 "metadata": {
  "colab": {
   "collapsed_sections": [],
   "include_colab_link": true,
   "machine_shape": "hm",
   "name": "Write_Tarfiles_Functions.ipynb",
   "private_outputs": true,
   "provenance": []
  },
  "kernelspec": {
   "display_name": "Python 3 (ipykernel)",
   "language": "python",
   "name": "python3"
  },
  "language_info": {
   "codemirror_mode": {
    "name": "ipython",
    "version": 3
   },
   "file_extension": ".py",
   "mimetype": "text/x-python",
   "name": "python",
   "nbconvert_exporter": "python",
   "pygments_lexer": "ipython3",
   "version": "3.7.12"
  }
 },
 "nbformat": 4,
 "nbformat_minor": 5
}
