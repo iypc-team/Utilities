{
 "cells": [
  {
   "cell_type": "code",
   "execution_count": null,
   "id": "620fff32",
   "metadata": {},
   "outputs": [],
   "source": [
    "%%writefile ClearCache_1.py\n",
    "# created: 7/22/2022\n",
    "# updated: 07/26/2022\n",
    "from __future__ import absolute_import, unicode_literals\n",
    "from BashColors import C\n",
    "\n",
    "import gc, glob, json, pip, os, shutil, sys, tarfile\n",
    "from os.path import *\n",
    "\n",
    "contentPath=os.getcwd()\n",
    "\n",
    "class ClearCache(object):\n",
    "    ''' '''\n",
    "    def __init__(self):\n",
    "        print(f\"{C.BIGreen}ClearCache{C.ColorOff}\")\n",
    "        self.cc = ClearCache\n",
    "        self.__all__ = self.getMethodList()\n",
    "        self.created = 'created: 7/22/2022'\n",
    "        self.updated = 'updated: 07/26/2022'\n",
    "        # print(f'{C.BIPurple}{self.updated}{C.ColorOff}')\n",
    "        self.contentPath = os.getcwd()\n",
    "        \n",
    "        self.garbageCollectList = gc.get_objects() \n",
    "        # Returns a list of all objects tracked by the collector\n",
    "        gc.enable() #Enable automatic garbage collection.\n",
    "        # gc.disable() # Disable automatic garbage collection.\n",
    "        print(f'gc.isenabled: {C.BIGreen}{gc.isenabled()}{C.ColorOff}')\n",
    "        # True if automatic collection is enabled.\n",
    "        gc.collect()\n",
    "        gc.collect(generation=2)\n",
    "        gc.collect(generation=1)\n",
    "        gc.collect(generation=0)\n",
    "        \n",
    "        super(object, self).__init__()\n",
    "        \n",
    "    def __iter__(self):\n",
    "        return self\n",
    "    # def __len__(self):\n",
    "        # return len(self.name)\n",
    "    def __str__(self):\n",
    "        return \"%s(%r)\" % (self.__class__, self.__dict__)\n",
    "    def __iter__(self):\n",
    "        for key in self.some_sequence:\n",
    "            yield (key, 'Value for {}'.format(key))\n",
    "            \n",
    "    def getMethodList(self, silent=True):\n",
    "        '''List all methods in JsonNumpyUtils\\n Print silent = True'''\n",
    "        method_list=[]\n",
    "        for attribute in dir(self):\n",
    "            # Get the attribute value\n",
    "            attribute_value = getattr(self, attribute)\n",
    "            # Check that it is callable\n",
    "            if callable(attribute_value):\n",
    "                # Filter all dunder (__ prefix) methods\n",
    "                if attribute.startswith('__') == False:\n",
    "                    method_list.append(attribute)\n",
    "        if not silent:\n",
    "            print(f'{len(method_list)} callable methods in JsonNumpyUtils')\n",
    "            for method in method_list:\n",
    "                print(method)\n",
    "        return method_list\n",
    "    \n",
    "    def clear_Cache(removeCache=False):\n",
    "        '''default removeCache=False'''\n",
    "        globList = glob.glob('**', recursive=True)\n",
    "        for fil in globList:\n",
    "            if  fil.endswith('__'):\n",
    "                full_Path = abspath(fil)\n",
    "                print(f'{full_Path}{C.ColorOff}')\n",
    "        if removeCache:\n",
    "            print(f'removed: {C.BIRed}{full_Path}')\n",
    "            shutil.rmtree(full_Path)\n",
    "cc=ClearCache()"
   ]
  },
  {
   "cell_type": "code",
   "execution_count": null,
   "id": "844a5c7d",
   "metadata": {},
   "outputs": [],
   "source": [
    "from ClearCache_1 import *\n",
    "cc.garbageCollectList"
   ]
  },
  {
   "cell_type": "code",
   "execution_count": null,
   "id": "2f5d6631",
   "metadata": {},
   "outputs": [],
   "source": [
    "from CV2Utils_2 import *"
   ]
  },
  {
   "cell_type": "code",
   "execution_count": null,
   "id": "ad1f66e0",
   "metadata": {},
   "outputs": [],
   "source": []
  },
  {
   "cell_type": "code",
   "execution_count": null,
   "id": "825ec9db",
   "metadata": {},
   "outputs": [],
   "source": [
    "from time import perf_counter_ns\n",
    "start=perf_counter_ns()\n",
    "\n",
    "def printNanoSeconds(strt, fnsh=None):\n",
    "    '''prints with nanosecond resolution'''\n",
    "    if fnsh == None:\n",
    "        fnsh=perf_counter_ns()\n",
    "    '''seconds = nanoseconds ÷ 1,000,000,000'''\n",
    "    nanoseconds = fnsh - strt\n",
    "    print(f'{nanoseconds} nanoseconds')\n",
    "    milliseconds = nanoseconds / 1000000\n",
    "    print(f'{milliseconds} milliseconds')\n",
    "    microseconds = nanoseconds / 1000\n",
    "    print(f'{microseconds} microseconds')\n",
    "\n",
    "printNanoSeconds(start)"
   ]
  }
 ],
 "metadata": {
  "accelerator": "GPU",
  "colab": {
   "collapsed_sections": [],
   "machine_shape": "hm",
   "name": "CV2_Utils_Module.ipynb",
   "private_outputs": true,
   "provenance": []
  },
  "kernelspec": {
   "display_name": "Python 3 (ipykernel)",
   "language": "python",
   "name": "python3"
  },
  "language_info": {
   "codemirror_mode": {
    "name": "ipython",
    "version": 3
   },
   "file_extension": ".py",
   "mimetype": "text/x-python",
   "name": "python",
   "nbconvert_exporter": "python",
   "pygments_lexer": "ipython3",
   "version": "3.7.12"
  }
 },
 "nbformat": 4,
 "nbformat_minor": 5
}
