{
 "cells": [
  {
   "cell_type": "code",
   "execution_count": null,
   "id": "f9426a79",
   "metadata": {},
   "outputs": [],
   "source": [
    "%%writefile ClearCache_1.py\n",
    "# created: 07/25/2022\n",
    "# updated: 07/25/2022\n",
    "from __future__ import absolute_import\n",
    "from BashColors import C\n",
    "import glob, os, shutil\n",
    "from os.path import abspath\n",
    "contentPath=os.getcwd()\n",
    "# print(contentPath)\n",
    "\n",
    "class ClearCache(object):\n",
    "    ''' '''\n",
    "    def __init__(self):\n",
    "        print(f\"{C.BIGreen}ClearCache{C.ColorOff}\")\n",
    "        self.created: '07/25/2022'\n",
    "        self.cc = ClearCache\n",
    "    \n",
    "    def __iter__(self):\n",
    "        return self\n",
    "    def __len__(self):\n",
    "        return len(self.name)\n",
    "    def __str__(self):\n",
    "        return \"%s(%r)\" % (self.__class__, self.__dict__)\n",
    "    \n",
    "    super(object, self).__init__()\n",
    "    \n",
    "    def clearCache(removeCache=False):\n",
    "        '''default removeCache=False'''\n",
    "        print(f'removeCache: {removeCache}')\n",
    "        globList = glob.glob('**', recursive=True)\n",
    "\n",
    "        for fil in globList:\n",
    "            # print(fil)\n",
    "            if fil.endswith('__'):\n",
    "                full_Path = abspath(fil)\n",
    "                print(full_Path)\n",
    "                os.chdir(full_Path)\n",
    "                if removeCache:\n",
    "                    print(f'removing: {full_Path}')\n",
    "                    shutil.rmtree(full_Path)\n",
    "        print(len(globList), 'cache files in contentPath')\n",
    "cc=ClearCache()"
   ]
  },
  {
   "cell_type": "code",
   "execution_count": null,
   "id": "f9cebbbf",
   "metadata": {},
   "outputs": [],
   "source": [
    "from ClearCache_1 import *\n",
    "cc.clearCache(removeCache=True)"
   ]
  },
  {
   "cell_type": "code",
   "execution_count": null,
   "id": "5ac25d2a",
   "metadata": {},
   "outputs": [],
   "source": [
    "from CV2Utils_2 import *"
   ]
  }
 ],
 "metadata": {
  "kernelspec": {
   "display_name": "Python 3 (ipykernel)",
   "language": "python",
   "name": "python3"
  },
  "language_info": {
   "codemirror_mode": {
    "name": "ipython",
    "version": 3
   },
   "file_extension": ".py",
   "mimetype": "text/x-python",
   "name": "python",
   "nbconvert_exporter": "python",
   "pygments_lexer": "ipython3",
   "version": "3.7.12"
  }
 },
 "nbformat": 4,
 "nbformat_minor": 5
}
