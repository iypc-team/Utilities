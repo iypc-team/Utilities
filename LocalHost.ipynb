{
 "cells": [
  {
   "cell_type": "code",
   "execution_count": null,
   "id": "7295758e",
   "metadata": {},
   "outputs": [],
   "source": [
    "from __future__ import absolute_import\n",
    "from CV2Utils_2 import *"
   ]
  },
  {
   "cell_type": "code",
   "execution_count": null,
   "id": "441dc97c",
   "metadata": {},
   "outputs": [],
   "source": [
    "# file://localhost/home/jovyan/DataGenerator5.tar.gz\n",
    "from __future__ import absolute_import\n",
    "from BashColors import C\n",
    "import urllib.request, urllib.parse, urllib.error\n",
    "import os\n",
    "from os.path import join\n",
    "contentPath = os.getcwd()\n",
    "# gzipPath = join(contentPath, 'DataGenerator5.tar.gz')\n",
    "# gzipPath = join(contentPath, 'CV2Utils_2.py')\n",
    "# print(gzipPath)\n",
    "print()\n",
    "item = urllib.request.urlopen(\n",
    "    'file://localhost/home/jovyan/CV2Utils_2.py'\n",
    ")\n",
    "# print(item)\n",
    "print(item.file.read1())\n",
    "print(f'fp.raw: {C.Blue}{item.fp.raw}{C.ColorOff}')\n",
    "print(f'fp.readable: {C.BICyan}{item.fp.readable()}{C.ColorOff}')\n",
    "\n",
    "\n",
    "print(f'getcode: {C.BICyan}{item.getcode()}{C.ColorOff}')\n",
    "print(f' {C.BICyan}{item}{C.ColorOff}')\n",
    "print(f'headersDict: {C.BICyan}{item.headersDict}{C.ColorOff}')\n",
    "print(f'url: {C.BICyan}{item.url}{C.ColorOff}')\n",
    "item.close()\n"
   ]
  },
  {
   "cell_type": "code",
   "execution_count": null,
   "id": "c87613aa",
   "metadata": {},
   "outputs": [],
   "source": [
    "try:\n",
    "    url = 'https://www.google.com/search?q=python'\n",
    "    # now, with the below headersDict, we defined ourselves as a simpleton \n",
    "    # who is still using internet explorer.\n",
    "    headersDict = {}\n",
    "    headersDict['User-Agent'] = \"Mozilla/5.0 (X11; Linux i686) AppleWebKit/537.17 (KHTML, like Gecko) Chrome/24.0.1312.27 Safari/537.17\"\n",
    "    req = urllib.request.Request(url, headersDict = headersDict)\n",
    "    resp = urllib.request.urlopen(req)\n",
    "    respData = resp.read()\n",
    "\n",
    "    saveFile = open('withheadersDict.txt','w')\n",
    "    saveFile.write(str(respData))\n",
    "    saveFile.close()\n",
    "except Exception as err:\n",
    "    print(str(err))"
   ]
  },
  {
   "cell_type": "code",
   "execution_count": null,
   "id": "519b3a36",
   "metadata": {},
   "outputs": [],
   "source": [
    "print(headersDict)"
   ]
  }
 ],
 "metadata": {
  "kernelspec": {
   "display_name": "Python 3 (ipykernel)",
   "language": "python",
   "name": "python3"
  },
  "language_info": {
   "codemirror_mode": {
    "name": "ipython",
    "version": 3
   },
   "file_extension": ".py",
   "mimetype": "text/x-python",
   "name": "python",
   "nbconvert_exporter": "python",
   "pygments_lexer": "ipython3",
   "version": "3.7.12"
  }
 },
 "nbformat": 4,
 "nbformat_minor": 5
}
