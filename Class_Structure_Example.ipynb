{
 "cells": [
  {
   "cell_type": "code",
   "execution_count": null,
   "id": "6ac25d42",
   "metadata": {},
   "outputs": [],
   "source": [
    "from __future__ import absolute_import, unicode_literals\n",
    "class A(object): #  or with Python 3 can define class A:\n",
    "    def __init__(self):\n",
    "        print(\"I'm from A\")\n",
    " \n",
    "class B(A):\n",
    "     def __init__(self):\n",
    "         print(\"I'm from B\")\n",
    "         super().__init__()\n",
    "  \n",
    "class C(A):\n",
    "     def __init__(self):\n",
    "         print(\"I'm from C\")\n",
    "         super().__init__()\n",
    " \n",
    "class D(B, C):\n",
    "     def __init__(self):\n",
    "         print(\"I'm from D\")\n",
    "         super().__init__()\n",
    "d = D()"
   ]
  },
  {
   "cell_type": "code",
   "execution_count": null,
   "id": "87871d6e",
   "metadata": {},
   "outputs": [],
   "source": [
    "outputText'''\n",
    "# I'm from D\n",
    "# I'm from B\n",
    "# I'm from C\n",
    "# I'm from A\n",
    "\n",
    "    A\n",
    "   / ⇖\n",
    "  B ⇒ C\n",
    "   ⇖ /\n",
    "    D\n",
    "'''"
   ]
  },
  {
   "cell_type": "code",
   "execution_count": null,
   "id": "cde8ede7",
   "metadata": {},
   "outputs": [],
   "source": [
    "class A(object):  # or class A:\n",
    "    def __init__(self):\n",
    "        print(\"I'm from A\")\n",
    "  \n",
    "class B(A):\n",
    "    def __init__(self):\n",
    "        super().__init__()  # or super(B, self).__init_()\n",
    "        print(\"I'm from B\")\n",
    "   \n",
    "class C(A):\n",
    "    def __init__(self):\n",
    "        super().__init__()\n",
    "        print(\"I'm from C\")\n",
    "  \n",
    "class D(B, C):\n",
    "    def __init__(self):\n",
    "        super().__init__()\n",
    "        print(\"I'm from D\")\n",
    "    \n",
    "d = D()"
   ]
  },
  {
   "cell_type": "code",
   "execution_count": null,
   "id": "fc8edf35",
   "metadata": {},
   "outputs": [],
   "source": [
    "outputText'''\n",
    " I'm from A\n",
    " I'm from C\n",
    " I'm from B\n",
    " I'm from D\n",
    " We have a different order it is reversed a order of the MRO tuple.\n",
    "\n",
    "   A\n",
    "  / ⇘\n",
    " B ⇐ C\n",
    "  ⇘ /\n",
    "   D \n",
    "'''"
   ]
  }
 ],
 "metadata": {
  "kernelspec": {
   "display_name": "Python 3 (ipykernel)",
   "language": "python",
   "name": "python3"
  },
  "language_info": {
   "codemirror_mode": {
    "name": "ipython",
    "version": 3
   },
   "file_extension": ".py",
   "mimetype": "text/x-python",
   "name": "python",
   "nbconvert_exporter": "python",
   "pygments_lexer": "ipython3",
   "version": "3.7.12"
  }
 },
 "nbformat": 4,
 "nbformat_minor": 5
}
