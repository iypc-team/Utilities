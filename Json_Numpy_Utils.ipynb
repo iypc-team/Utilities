{
 "cells": [
  {
   "cell_type": "code",
   "execution_count": null,
   "id": "f6d75290",
   "metadata": {},
   "outputs": [],
   "source": [
    "class Parent(object):\n",
    "    def __init__(self):\n",
    "        # print(\"parent\")\n",
    "        super(Parent, self).__init__()\n",
    "\n",
    "class Left(Parent):\n",
    "    def __init__(self):\n",
    "        # print(\"left\")\n",
    "        super(Left, self).__init__()\n",
    "\n",
    "class Right(Parent):\n",
    "    def __init__(self):\n",
    "        # print(\"right\")\n",
    "        super(Right, self).__init__()\n",
    "\n",
    "class JsonNumpyUtils(Left, Right):\n",
    "    def __init__(self):\n",
    "        # print(\"JsonNumpyUtils\")\n",
    "        self.mro = 'Class Resolution order: JsonNumpyUtils left right parent'\n",
    "        super(JsonNumpyUtils, self).__init__()\n",
    "        \n",
    "\n",
    "jnu=JsonNumpyUtils()\n",
    "jnu.mro"
   ]
  }
 ],
 "metadata": {
  "kernelspec": {
   "display_name": "Python 3 (ipykernel)",
   "language": "python",
   "name": "python3"
  },
  "language_info": {
   "codemirror_mode": {
    "name": "ipython",
    "version": 3
   },
   "file_extension": ".py",
   "mimetype": "text/x-python",
   "name": "python",
   "nbconvert_exporter": "python",
   "pygments_lexer": "ipython3",
   "version": "3.7.12"
  }
 },
 "nbformat": 4,
 "nbformat_minor": 5
}
